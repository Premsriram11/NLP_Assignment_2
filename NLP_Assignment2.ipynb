{
 "cells": [
  {
   "cell_type": "code",
   "execution_count": null,
   "id": "4c4f485e",
   "metadata": {},
   "outputs": [],
   "source": [
    "import pandas as pd\n",
    "from nltk.tokenize import TweetTokenizer\n",
    "fake = pd.read_csv(\"C:/Users/Welcome/Downloads/fake.csv\")\n",
    "real = pd.read_csv(\"C:/Users/Welcome/Downloads/True.csv\")\n",
    "fake['label'] = 0\n",
    "real['label'] = 1"
   ]
  },
  {
   "cell_type": "code",
   "execution_count": null,
   "id": "2219593e",
   "metadata": {},
   "outputs": [],
   "source": [
    "true_and_false = pd.concat([fake, real])\n",
    "print(fake.shape)\n",
    "print(real.shape)\n",
    "print(true_and_false.shape)"
   ]
  },
  {
   "cell_type": "code",
   "execution_count": null,
   "id": "6147c1fc",
   "metadata": {},
   "outputs": [],
   "source": [
    "fake.head()\n",
    "real.head()"
   ]
  },
  {
   "cell_type": "code",
   "execution_count": null,
   "id": "1c49bb31",
   "metadata": {},
   "outputs": [],
   "source": [
    "true_and_false.head()"
   ]
  },
  {
   "cell_type": "code",
   "execution_count": null,
   "id": "06a52f43",
   "metadata": {},
   "outputs": [],
   "source": [
    "fake.tail()"
   ]
  },
  {
   "cell_type": "code",
   "execution_count": null,
   "id": "24cd2ab3",
   "metadata": {},
   "outputs": [],
   "source": [
    "real.tail()"
   ]
  },
  {
   "cell_type": "code",
   "execution_count": null,
   "id": "0c028bb0",
   "metadata": {},
   "outputs": [],
   "source": [
    "true_and_false.tail()"
   ]
  },
  {
   "cell_type": "code",
   "execution_count": null,
   "id": "84735333",
   "metadata": {},
   "outputs": [],
   "source": [
    "print(fake.columns)"
   ]
  },
  {
   "cell_type": "code",
   "execution_count": null,
   "id": "ce14b4c9",
   "metadata": {},
   "outputs": [],
   "source": [
    "real_and_fake_text = true_and_false['text']\n",
    "print(real_and_fake_text)"
   ]
  },
  {
   "cell_type": "code",
   "execution_count": null,
   "id": "03b83a3a",
   "metadata": {},
   "outputs": [],
   "source": [
    "tweet_tokenizer = TweetTokenizer()\n",
    "tokens = real_and_fake_text.apply(tweet_tokenizer.tokenize)\n",
    "print(real_and_fake_text, tokens)"
   ]
  },
  {
   "cell_type": "code",
   "execution_count": null,
   "id": "cbbe31f2",
   "metadata": {},
   "outputs": [],
   "source": [
    "from sklearn.feature_extraction.text import TfidfVectorizer\n",
    "tfidf_vectorizer = TfidfVectorizer()\n",
    "tfidf_matrix = tfidf_vectorizer.fit_transform(real_and_fake_text)\n",
    "print(\"Feature names:\", tfidf_vectorizer.get_feature_names_out())"
   ]
  },
  {
   "cell_type": "code",
   "execution_count": null,
   "id": "b0380e95",
   "metadata": {},
   "outputs": [],
   "source": [
    "print(\"TF-IDF Matrix:\")\n",
    "print(tfidf_matrix.toarray())"
   ]
  },
  {
   "cell_type": "code",
   "execution_count": null,
   "id": "2c794353",
   "metadata": {},
   "outputs": [],
   "source": []
  },
  {
   "cell_type": "code",
   "execution_count": null,
   "id": "93840803",
   "metadata": {},
   "outputs": [],
   "source": []
  }
 ],
 "metadata": {
  "kernelspec": {
   "display_name": "Python 3 (ipykernel)",
   "language": "python",
   "name": "python3"
  },
  "language_info": {
   "codemirror_mode": {
    "name": "ipython",
    "version": 3
   },
   "file_extension": ".py",
   "mimetype": "text/x-python",
   "name": "python",
   "nbconvert_exporter": "python",
   "pygments_lexer": "ipython3",
   "version": "3.11.4"
  }
 },
 "nbformat": 4,
 "nbformat_minor": 5
}
